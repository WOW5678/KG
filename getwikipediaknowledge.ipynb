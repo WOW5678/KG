{
 "cells": [
  {
   "cell_type": "code",
   "execution_count": 1,
   "metadata": {
    "collapsed": true
   },
   "outputs": [],
   "source": [
    "a=set()"
   ]
  },
  {
   "cell_type": "code",
   "execution_count": 2,
   "metadata": {},
   "outputs": [],
   "source": [
    "a.add(1)"
   ]
  },
  {
   "cell_type": "code",
   "execution_count": 3,
   "metadata": {},
   "outputs": [
    {
     "data": {
      "text/plain": [
       "{1}"
      ]
     },
     "execution_count": 3,
     "metadata": {},
     "output_type": "execute_result"
    }
   ],
   "source": [
    "a"
   ]
  },
  {
   "cell_type": "code",
   "execution_count": 4,
   "metadata": {},
   "outputs": [
    {
     "data": {
      "text/plain": [
       "{1}"
      ]
     },
     "execution_count": 4,
     "metadata": {},
     "output_type": "execute_result"
    }
   ],
   "source": [
    "a.add(1)\n",
    "a"
   ]
  },
  {
   "cell_type": "code",
   "execution_count": 5,
   "metadata": {},
   "outputs": [],
   "source": [
    "mygenerator = (x*x for x in range(3))"
   ]
  },
  {
   "cell_type": "code",
   "execution_count": 9,
   "metadata": {},
   "outputs": [],
   "source": [
    "for i in mygenerator:\n",
    "    print(i)"
   ]
  },
  {
   "cell_type": "code",
   "execution_count": 6,
   "metadata": {},
   "outputs": [
    {
     "data": {
      "text/plain": [
       "['中山大学',\n '國立中山大學',\n '莫斯科中山大学',\n '中山大学中山医学院',\n '国立武昌中山大学',\n '中山大学岭南（大学）学院',\n '中山大学深圳校区',\n '中山大学孙逸仙纪念医院',\n '中山大学管理学院',\n '河南省立中山大学']"
      ]
     },
     "execution_count": 6,
     "metadata": {},
     "output_type": "execute_result"
    }
   ],
   "source": [
    "import wikipedia\n",
    "wikipedia.set_lang('zh')\n",
    "wikipedia.search('中山大学')"
   ]
  },
  {
   "cell_type": "code",
   "execution_count": 7,
   "metadata": {},
   "outputs": [],
   "source": [
    "ny=wikipedia.page('中山大学')"
   ]
  },
  {
   "cell_type": "code",
   "execution_count": 8,
   "metadata": {},
   "outputs": [
    {
     "data": {
      "text/plain": [
       "'中山大学'"
      ]
     },
     "execution_count": 8,
     "metadata": {},
     "output_type": "execute_result"
    }
   ],
   "source": [
    "ny.title"
   ]
  },
  {
   "cell_type": "code",
   "execution_count": 9,
   "metadata": {},
   "outputs": [
    {
     "data": {
      "text/plain": [
       "'https://zh.wikipedia.org/wiki/%E4%B8%AD%E5%B1%B1%E5%A4%A7%E5%AD%A6'"
      ]
     },
     "execution_count": 9,
     "metadata": {},
     "output_type": "execute_result"
    }
   ],
   "source": [
    "ny.url"
   ]
  },
  {
   "cell_type": "code",
   "execution_count": 13,
   "metadata": {},
   "outputs": [
    {
     "data": {
      "text/plain": [
       "['1924年', '2015年中山大学院系调整', '211工程']"
      ]
     },
     "execution_count": 13,
     "metadata": {},
     "output_type": "execute_result"
    }
   ],
   "source": [
    "ny.links[:3]"
   ]
  },
  {
   "cell_type": "code",
   "execution_count": 19,
   "metadata": {},
   "outputs": [
    {
     "data": {
      "text/plain": [
       "['ICD-10 Chapter I: Certain infectious and parasitic diseases',\n 'List of ICD-9 codes 001–139: infectious and parasitic diseases',\n 'ICD-10 Clinical Modification',\n 'Yellow fever']"
      ]
     },
     "execution_count": 19,
     "metadata": {},
     "output_type": "execute_result"
    }
   ],
   "source": [
    "wikipedia.set_lang('en')\n",
    "wikipedia.search('Unspecified non-arthropod-borne viral diseases of central nervous system')"
   ]
  },
  {
   "cell_type": "code",
   "execution_count": 21,
   "metadata": {},
   "outputs": [
    {
     "data": {
      "text/plain": [
       "[]"
      ]
     },
     "execution_count": 21,
     "metadata": {},
     "output_type": "execute_result"
    }
   ],
   "source": [
    "wikipedia.search('Group D Streptococcus [Enterococcus] infection in conditions classified elsewhere and of unspecified site')"
   ]
  },
  {
   "cell_type": "code",
   "execution_count": 22,
   "metadata": {},
   "outputs": [
    {
     "data": {
      "text/plain": [
       "['Intestinal infectious diseases',\n 'List of ICD-9 codes 001–139: infectious and parasitic diseases',\n 'Amoebiasis',\n 'ICD-10 Chapter I: Certain infectious and parasitic diseases',\n 'Infection',\n 'Diseases and epidemics of the 19th century',\n 'Dysentery',\n 'Typhoid fever',\n 'Diarrhea',\n 'Parasitic worm']"
      ]
     },
     "execution_count": 22,
     "metadata": {},
     "output_type": "execute_result"
    }
   ],
   "source": [
    "wikipedia.search(' Intestinal Infectious Diseases')"
   ]
  },
  {
   "cell_type": "code",
   "execution_count": 23,
   "metadata": {},
   "outputs": [
    {
     "data": {
      "text/plain": [
       "['Cholera',\n '1854 Broad Street cholera outbreak',\n '1826–1837 cholera pandemic',\n 'Love in the Time of Cholera',\n 'Vibrio cholerae',\n 'Cholera vaccine',\n 'Cholera (food)',\n 'Cholera outbreaks and pandemics',\n 'Love in the Time of Cholera (film)',\n '2010s Haiti cholera outbreak']"
      ]
     },
     "execution_count": 23,
     "metadata": {},
     "output_type": "execute_result"
    }
   ],
   "source": [
    "wikipedia.search('Cholera')"
   ]
  },
  {
   "cell_type": "code",
   "execution_count": 25,
   "metadata": {},
   "outputs": [],
   "source": [
    "ny=wikipedia.page('Cholera')"
   ]
  },
  {
   "cell_type": "code",
   "execution_count": 26,
   "metadata": {},
   "outputs": [
    {
     "data": {
      "text/plain": [
       "'Cholera is an infection of the small intestine by some strains of the bacterium Vibrio cholerae. Symptoms may range from none, to mild, to severe. The classic symptom is large amounts of watery diarrhea that lasts a few days. Vomiting and muscle cramps may also occur. Diarrhea can be so severe that it leads within hours to severe dehydration and electrolyte imbalance. This may result in sunken eyes, cold skin, decreased skin elasticity, and wrinkling of the hands and feet. Dehydration can cause the skin to turn bluish. Symptoms start two hours to five days after exposure.Cholera is caused by a number of types of Vibrio cholerae, with some types producing more severe disease than others. It is spread mostly by unsafe water and unsafe food that has been contaminated with human feces containing the bacteria. Undercooked seafood is a common source. Humans are the only animal affected. Risk factors for the disease include poor sanitation, not enough clean drinking water, and poverty. There are concerns that rising sea levels will increase rates of disease. Cholera can be diagnosed by a stool test. A rapid dipstick test is available but is not as accurate.Prevention methods against cholera include improved sanitation and access to clean water. Cholera vaccines that are given by mouth provide reasonable protection for about six months. They have the added benefit of protecting against another type of diarrhea caused by E. coli. The primary treatment is oral rehydration therapy—the replacement of fluids with slightly sweet and salty solutions. Rice-based solutions are preferred. Zinc supplementation is useful in children. In severe cases, intravenous fluids, such as Ringer\\'s lactate, may be required, and antibiotics may be beneficial. Testing to see which antibiotic the cholera is susceptible to can help guide the choice.Cholera affects an estimated 3–5 million people worldwide and causes 28,800–130,000 deaths a year. Although it is classified as a pandemic as of 2010, it is rare in the developed world. Children are mostly affected. Cholera occurs as both outbreaks and chronically in certain areas. Areas with an ongoing risk of disease include Africa and Southeast Asia. The risk of death among those affected is usually less than 5% but may be as high as 50%. No access to treatment results in a higher death rate. Descriptions of cholera are found as early as the 5th century BC in Sanskrit. The study of cholera in England by John Snow between 1849 and 1854 led to significant advances in the field of epidemiology. Seven large outbreaks have occurred over the last 200 years with millions of deaths.\\n\\n\\n== Signs and symptoms ==\\n\\nThe primary symptoms of cholera are profuse diarrhea and vomiting of clear fluid. These symptoms usually start suddenly, half a day to five days after ingestion of the bacteria. The diarrhea is frequently described as \"rice water\" in nature and may have a fishy odor. An untreated person with cholera may produce 10 to 20 litres (3 to 5 US gal) of diarrhea a day. Severe cholera, without treatment, kills about half of affected individuals. If the severe diarrhea is not treated, it can result in life-threatening dehydration and electrolyte imbalances. Estimates of the ratio of asymptomatic to symptomatic infections have ranged from 3 to 100. Cholera has been nicknamed the \"blue death\" because a person\\'s skin may turn bluish-gray from extreme loss of fluids.Fever is rare and should raise suspicion for secondary infection. Patients can be lethargic, and might have sunken eyes, dry mouth, cold clammy skin, or wrinkled hands and feet. Kussmaul breathing, a deep and labored breathing pattern, can occur because of acidosis from stool bicarbonate losses and lactic acidosis associated with poor perfusion. Blood pressure drops due to dehydration, peripheral pulse is rapid and thready, and urine output decreases with time. Muscle cramping and weakness, altered consciousness, seizures, or even coma due to electrolyte imbalances are common, especially in children.\\n\\n\\n== Cause ==\\n\\n\\n=== Transmission ===\\nCholera has been found in two animal populations: shellfish and plankton.Transmission is usually through the fecal-oral route of contaminated food or water caused by poor sanitation. Most cholera cases in developed countries are a result of transmission by food, while in the developing world it is more often water. Food transmission can occur when people harvest seafood such as oysters in waters infected with sewage, as Vibrio cholerae accumulates in planktonic crustaceans and the oysters eat the zooplankton.People infected with cholera often have diarrhea, and disease transmission may occur if this highly liquid stool, colloquially referred to as \"rice-water\", contaminates water used by others.  A single diarrheal event can cause a one-million fold increase in numbers of V. cholerae in the environment.  The source of the contamination is typically other cholera sufferers when their untreated diarrheal discharge is allowed to get into waterways, groundwater or drinking water supplies. Drinking any contaminated water and eating any foods washed in the water, as well as shellfish living in the affected waterway, can cause a person to contract an infection. Cholera is rarely spread directly from person to person.V. cholerae also exists outside the human body in natural water sources, either by itself or through interacting with phytoplankton, zooplankton, or biotic and abiotic detritus. Drinking such water can also result in the disease, even without prior contamination through fecal matter. Selective pressures exist however in the aquatic environment that may reduce the virulence of V. cholerae. Specifically, animal models indicate that the transcriptional profile of the pathogen changes as it prepares to enter an aquatic environment. This transcriptional change results in a loss of ability of V. cholerae to be cultured on standard media, a phenotype referred to as \\'viable but non-culturable\\' (VBNC) or more conservatively \\'active but non-culturable\\' (ABNC). One study indicates that the culturability of V. cholerae drops 90% within 24 hours of entering the water, and furthermore that this loss in culturability is associated with a loss in virulence.Both toxic and non-toxic strains exist. Non-toxic strains can acquire toxicity through a temperate bacteriophage.\\n\\n\\n=== Susceptibility ===\\nAbout 100 million bacteria must typically be ingested to cause cholera in a normal healthy adult. This dose, however, is less in those with lowered gastric acidity (for instance those using proton pump inhibitors). Children are also more susceptible, with two- to four-year-olds having the highest rates of infection. Individuals\\' susceptibility to cholera is also affected by their blood type, with those with type O blood being the most susceptible. Persons with lowered immunity, such as persons with AIDS or malnourished children, are more likely to experience a severe case if they become infected. Any individual, even a healthy adult in middle age, can experience a severe case, and each person\\'s case should be measured by the loss of fluids, preferably in consultation with a professional health care provider.The cystic fibrosis genetic mutation known as delta-F508 in humans has been said to maintain a selective heterozygous advantage: heterozygous carriers of the mutation (who are thus not affected by cystic fibrosis) are more resistant to V. cholerae infections. In this model, the genetic deficiency in the cystic fibrosis transmembrane conductance regulator channel proteins interferes with bacteria binding to the intestinal epithelium, thus reducing the effects of an infection.\\n\\n\\n== Mechanism ==\\n\\nWhen consumed, most bacteria do not survive the acidic conditions of the human stomach. The few surviving bacteria conserve their energy and stored nutrients during the passage through the stomach by shutting down protein production. When the surviving bacteria exit the stomach and reach the small intestine, they must propel themselves through the thick mucus that lines the small intestine to reach the intestinal walls where they can attach and thrive.Once the cholera bacteria reach the intestinal wall, they no longer need the flagella to move. The bacteria stop producing the protein flagellin to conserve energy and nutrients by changing the mix of proteins which they express in response to the changed chemical surroundings. On reaching the intestinal wall, V. cholerae start producing the toxic proteins that give the infected person a watery diarrhea. This carries the multiplying new generations of V. cholerae bacteria out into the drinking water of the next host if proper sanitation measures are not in place.The cholera toxin (CTX or CT) is an oligomeric complex made up of six protein subunits: a single copy of the A subunit (part A), and five copies of the B subunit (part B), connected by a disulfide bond. The five B subunits form a five-membered ring that binds to GM1 gangliosides on the surface of the intestinal epithelium cells. The A1 portion of the A subunit is an enzyme that ADP-ribosylates G proteins, while the A2 chain fits into the central pore of the B subunit ring. Upon binding, the complex is taken into the cell via receptor-mediated endocytosis. Once inside the cell, the disulfide bond is reduced, and the A1 subunit is freed to bind with a human partner protein called ADP-ribosylation factor 6 (Arf6). Binding exposes its active site, allowing it to permanently ribosylate the Gs alpha subunit of the heterotrimeric G protein. This results in constitutive cAMP production, which in turn leads to the secretion of water, sodium, potassium, and bicarbonate into the lumen of the small intestine and rapid dehydration. The gene encoding the cholera toxin was introduced into V. cholerae by horizontal gene transfer. Virulent strains of V. cholerae carry a variant of a temperate bacteriophage called CTXφ.\\nMicrobiologists have studied the genetic mechanisms by which the V. cholerae bacteria turn off the production of some proteins and turn on the production of other proteins as they respond to the series of chemical environments they encounter, passing through the stomach, through the mucous layer of the small intestine, and on to the intestinal wall. Of particular interest have been the genetic mechanisms by which cholera bacteria turn on the protein production of the toxins that interact with host cell mechanisms to pump chloride ions into the small intestine, creating an ionic pressure which prevents sodium ions from entering the cell. The chloride and sodium ions create a salt-water environment in the small intestines, which through osmosis can pull up to six liters of water per day through the intestinal cells, creating the massive amounts of diarrhea. The host can become rapidly dehydrated unless an appropriate mixture of dilute salt water and sugar is taken to replace the blood\\'s water and salts lost in the diarrhea.By inserting separate, successive sections of V. cholerae DNA into the DNA of other bacteria, such as E. coli that would not naturally produce the protein toxins, researchers have investigated the mechanisms by which V. cholerae responds to the changing chemical environments of the stomach, mucous layers, and intestinal wall. Researchers have discovered a complex cascade of regulatory proteins controls expression of V. cholerae virulence determinants. In responding to the chemical environment at the intestinal wall, the V. cholerae bacteria produce the TcpP/TcpH proteins, which, together with the ToxR/ToxS proteins, activate the expression of the ToxT regulatory protein. ToxT then directly activates expression of virulence genes that produce the toxins, causing diarrhea in the infected person and allowing the bacteria to colonize the intestine. Current research aims at discovering \"the signal that makes the cholera bacteria stop swimming and start to colonize (that is, adhere to the cells of) the small intestine.\"\\n\\n\\n=== Genetic structure ===\\n\\nAmplified fragment length polymorphism fingerprinting of the pandemic isolates of V. cholerae has revealed variation in the genetic structure. Two clusters have been identified: Cluster I and Cluster II. For the most part, Cluster I consists of strains from the 1960s and 1970s, while Cluster II largely contains strains from the 1980s and 1990s, based on the change in the clone structure. This grouping of strains is best seen in the strains from the African continent.\\n\\n\\n=== Antibiotic resistance ===\\nIn many areas of the world, antibiotic resistance is increasing within cholera bacteria. In Bangladesh, for example, most cases are resistant to tetracycline, trimethoprim-sulfamethoxazole, and erythromycin. Rapid diagnostic assay methods are available for the identification of multi-drug resistant cases. New generation antimicrobials have been discovered which are effective against cholera bacteria in in vitro studies.\\n\\n\\n== Diagnosis ==\\nA rapid dipstick test is available to determine the presence of V. cholerae. In those samples that test positive, further testing should be done to determine antibiotic resistance. In epidemic situations, a clinical diagnosis may be made by taking a patient history and doing a brief examination. Treatment is usually started without or before confirmation by laboratory analysis.\\nStool and swab samples collected in the acute stage of the disease, before antibiotics have been administered, are the most useful specimens for laboratory diagnosis. If an epidemic of cholera is suspected, the most common causative agent is V. cholerae O1. If V. cholerae serogroup O1 is not isolated, the laboratory should test for V. cholerae O139. However, if neither of these organisms is isolated, it is necessary to send stool specimens to a reference laboratory.\\nInfection with V. cholerae O139 should be reported and handled in the same manner as that caused by V. cholerae O1. The associated diarrheal illness should be referred to as cholera and must be reported in the United States.\\n\\n\\n== Prevention ==\\n\\nThe World Health Organization (WHO) recommends focusing on prevention, preparedness, and response to combat the spread of cholera. They also stress the importance of an effective surveillance system. Governments can play a role in all of these areas.\\nAlthough cholera may be life-threatening, prevention of the disease is normally straightforward if proper sanitation practices are followed. In developed countries, due to nearly universal advanced water treatment and sanitation practices present there, cholera is rare. For example, the last major outbreak of cholera in the United States occurred in 1910–1911. Cholera is mainly a risk in developing countries.\\nEffective sanitation practices, if instituted and adhered to in time, are usually sufficient to stop an epidemic. There are several points along the cholera transmission path at which its spread may be halted:\\nSterilization: Proper disposal and treatment of all materials that may have come into contact with cholera victims\\' feces (e.g., clothing, bedding, etc.) are essential. These should be sanitized by washing in hot water, using chlorine bleach if possible. Hands that touch cholera patients or their clothing, bedding, etc., should be thoroughly cleaned and disinfected with chlorinated water or other effective antimicrobial agents.\\nSewage and fecal sludge management: In cholera-affected areas, sewage and fecal sludge need to be treated and managed carefully in order to stop the spread of this disease via human excreta. Provision of sanitation and hygiene is an important preventative measure. Open defecation, release of untreated sewage, or dumping of fecal sludge from pit latrines or septic tanks into the environment need to be prevented. In many cholera affected zones, there is a low degree of sewage treatment. Therefore, the implementation of dry toilets that do not contribute to water pollution, as they do not flush with water, may be an interesting alternative to flush toilets.\\nSources: Warnings about possible cholera contamination should be posted around contaminated water sources with directions on how to decontaminate the water (boiling, chlorination etc.) for possible use.\\nWater purification: All water used for drinking, washing, or cooking should be sterilized by either boiling, chlorination, ozone water treatment, ultraviolet light sterilization (e.g., by solar water disinfection), or antimicrobial filtration in any area where cholera may be present. Chlorination and boiling are often the least expensive and most effective means of halting transmission. Cloth filters or sari filtration, though very basic, have significantly reduced the occurrence of cholera when used in poor villages in Bangladesh that rely on untreated surface water. Better antimicrobial filters, like those present in advanced individual water treatment hiking kits, are most effective. Public health education and adherence to appropriate sanitation practices are of primary importance to help prevent and control transmission of cholera and other diseases.Handwashing with soap or ash after using a toilet and before handling food or eating is also recommended for cholera prevention by WHO Africa.\\n\\n\\t\\t\\n\\t\\t\\n\\n\\n=== Surveillance ===\\n\\nSurveillance and prompt reporting allow for containing cholera epidemics rapidly. Cholera exists as a seasonal disease in many endemic countries, occurring annually mostly during rainy seasons. Surveillance systems can provide early alerts to outbreaks, therefore leading to coordinated response and assist in preparation of preparedness plans. Efficient surveillance systems can also improve the risk assessment for potential cholera outbreaks. Understanding the seasonality and location of outbreaks provides guidance for improving cholera control activities for the most vulnerable. For prevention to be effective, it is important that cases be reported to national health authorities.\\n\\n\\n=== Vaccine ===\\n\\nA number of safe and effective oral vaccines for cholera are available.  The World Health Organization (WHO) has three prequalified oral cholera vaccines (OCVs): Dukoral, Sanchol, and Euvichol. Dukoral, an orally administered, inactivated whole cell vaccine, has an overall efficacy of about 52% during the first year after being given and 62% in the second year, with minimal side effects.  It is available in over 60 countries. However, it is not currently recommended by the Centers for Disease Control and Prevention (CDC) for most people traveling from the United States to endemic countries. The vaccine that the US Food and Drug Administration (FDA) recommends, Vaxchora, is an oral attenuated live vaccine,  that is effective as a single dose.One injectable vaccine was found to be effective for two to three years. The protective efficacy was 28% lower in children less than five years old. However, as of 2010, it has limited availability. Work is under way to investigate the role of mass vaccination. The WHO recommends immunization of high-risk groups, such as children and people with HIV, in countries where this disease is endemic.  If people are immunized broadly, herd immunity results, with a decrease in the amount of contamination in the environment.\\n\\n\\n=== Sari filtration ===\\nAn effective and relatively cheap method to prevent the transmission of cholera is the use of a folded sari (a long cloth garment) to filter drinking water. In Bangladesh this practice was found to decrease rates of cholera by nearly half. It involves folding a sari four to eight times. Between uses the cloth should be rinsed in clean water and dried in the sun to kill any bacteria on it. A nylon cloth appears to work as well but is not as affordable.\\n\\n\\n== Treatment ==\\n\\nContinued eating speeds the recovery of normal intestinal function. The WHO recommends this generally for cases of diarrhea no matter what the underlying cause. A CDC training manual specifically for cholera states: \"Continue to breastfeed your baby if the baby has watery diarrhea, even when traveling to get treatment. Adults and older children should continue to eat frequently.\"\\n\\n\\n=== Fluids ===\\nThe most common error in caring for patients with cholera is to underestimate the speed\\nand volume of fluids required. In most cases, cholera can be successfully treated with oral rehydration therapy (ORT), which is highly effective, safe, and simple to administer. Rice-based solutions are preferred to glucose-based ones due to greater efficiency. In severe cases with significant dehydration, intravenous rehydration may be necessary. Ringer\\'s lactate is the preferred solution, often with added potassium. Large volumes and continued replacement until diarrhea has subsided may be needed. Ten percent of a person\\'s body weight in fluid may need to be given in the first two to four hours. This method was first tried on a mass scale during the Bangladesh Liberation War, and was found to have much success.  Despite widespread beliefs, fruit juices and commercial fizzy drinks like cola, are not ideal for rehydration of people with serious infections of the intestines, and their excessive sugar content may even harm water uptake.If commercially produced oral rehydration solutions are too expensive or difficult to obtain, solutions can be made. One such recipe calls for 1 liter of boiled water, 1/2 teaspoon of salt, 6 teaspoons of sugar, and added mashed banana for potassium and to improve taste.\\n\\n\\n=== Electrolytes ===\\nAs there frequently is initially acidosis, the potassium level may be normal, even though large losses have occurred. As the dehydration is corrected, potassium levels may decrease rapidly, and thus need to be replaced.  This may be done by consuming foods high in potassium, like bananas or coconut water.\\n\\n\\n=== Antibiotics ===\\nAntibiotic treatments for one to three days shorten the course of the disease and reduce the severity of the symptoms. Use of antibiotics also reduces fluid requirements. People will recover without them, however, if sufficient hydration is maintained. The WHO only recommends antibiotics in those with severe dehydration.Doxycycline is typically used first line, although some strains of V. cholerae have shown resistance. Testing for resistance during an outbreak can help determine appropriate future choices. Other antibiotics proven to be effective include cotrimoxazole, erythromycin, tetracycline, chloramphenicol, and furazolidone. Fluoroquinolones, such as ciprofloxacin, also may be used, but resistance has been reported.Antibiotics improve outcomes in those who are both severely and not severely dehydrated. Azithromycin and tetracycline may work better than doxycycline or ciprofloxacin.\\n\\n\\n=== Zinc supplementation ===\\nIn Bangladesh zinc supplementation reduced the duration and severity of diarrhea in children with cholera when given with antibiotics and rehydration therapy as needed. It reduced the length of disease by eight hours and the amount of diarrhea stool by 10%. Supplementation appears to be also effective in both treating and preventing infectious diarrhea due to other causes among children in the developing world.\\n\\n\\n== Prognosis ==\\nIf people with cholera are treated quickly and properly, the mortality rate is less than 1%; however, with untreated cholera, the mortality rate rises to 50–60%.For certain genetic strains of cholera, such as the one present during the 2010 epidemic in Haiti and the 2004 outbreak in India, death can occur within two hours of becoming ill.\\n\\n\\n== Epidemiology ==\\n\\nCholera affects an estimated 3–5 million people worldwide, and causes 58,000–130,000 deaths a year as of 2010. This occurs mainly in the developing world. In the early 1980s, death rates are believed to have been greater than three million a year. It is difficult to calculate exact numbers of cases, as many go unreported due to concerns that an outbreak may have a negative impact on the tourism of a country. Cholera remains both epidemic and endemic in many areas of the world. In October 2016, an outbreak of cholera began in war-ravaged Yemen. WHO called it \"the worst cholera outbreak in the world\".Although much is known about the mechanisms behind the spread of cholera, this has not led to a full understanding of what makes cholera outbreaks happen in some places and not others. Lack of treatment of human feces and lack of treatment of drinking water greatly facilitate its spread, but bodies of water can serve as a reservoir, and seafood shipped long distances can spread the disease. Cholera was not known in the Americas for most of the 20th century, but it reappeared towards the end of that century.\\n\\n\\n== History ==\\n\\nThe word cholera is from Greek: χολέρα kholera from χολή kholē \"bile\". Cholera likely has its origins in the Indian subcontinent as evidenced by its prevalence in the region for centuries. Early outbreaks in the Indian subcontinent are believed to have been the result of poor living conditions as well as the presence of pools of still water, both of which provide ideal conditions for cholera to thrive. The disease first spread by trade routes (land and sea) to Russia in 1817, later to the rest of Europe, and from Europe to North America and the rest of the world. Seven cholera pandemics have occurred in the past 200 years, with the seventh pandemic originating in Indonesia in 1961.The first cholera pandemic occurred in the Bengal region of India, near Calcutta starting in 1817 through 1824. The disease dispersed from India to Southeast Asia, the Middle East, Europe, and Eastern Africa. The movement of British Army and Navy ships and personnel is believed to have contributed to the range of the pandemic, since the ships carried people with the disease to the shores of the Indian Ocean, from Africa to Indonesia, and north to China and Japan. The second pandemic lasted from 1826 to 1837 and particularly affected North America and Europe due to the result of advancements in transportation and global trade, and increased human migration, including soldiers.  The third pandemic erupted in 1846, persisted until 1860, extended to North Africa, and reached South America, for the first time specifically affecting Brazil. The fourth pandemic lasted from 1863 to 1875 spread from India to Naples and Spain. The fifth pandemic was from 1881–1896 and started in India and spread to Europe, Asia, and South America. The sixth pandemic started 1899–1923. These epidemics were less fatal due to a greater understanding of the cholera bacteria. Egypt, the Arabian peninsula, Persia, India, and the Philippines were hit hardest during these epidemics, while other areas, like Germany in 1892 and Naples from 1910–1911, also experienced severe outbreaks. The seventh pandemic originated in 1961 in Indonesia and is marked by the emergence of a new strain, nicknamed El Tor, which still persists (as of 2018) in developing countries.Since it became widespread in the 19th century, cholera has killed tens of millions of people. In Russia alone, between 1847 and 1851, more than one million people perished of the disease. It killed 150,000 Americans during the second pandemic. Between 1900 and 1920, perhaps eight million people died of cholera in India. Cholera became the first reportable disease in the United States due to the significant effects it had on health. John Snow, in England, was the first to identify the importance of contaminated water as its cause in 1854. Cholera is now no longer considered a pressing health threat in Europe and North America due to filtering and chlorination of water supplies, but still heavily affects populations in developing countries.\\nIn the past, vessels flew a yellow quarantine flag if any crew members or passengers were suffering from cholera. No one aboard a vessel flying a yellow flag would be allowed ashore for an extended period, typically 30 to 40 days. In modern sets of international maritime signal flags, the quarantine flag is yellow and black.\\nHistorically many different claimed remedies have existed in folklore. Many of the older remedies were based on the miasma theory. Some believed that abdominal chilling made one more susceptible and flannel and cholera belts were routine in army kits. In the 1854–1855 outbreak in Naples homeopathic camphor was used according to Hahnemann. T. J. Ritter\\'s \"Mother\\'s Remedies\" book lists tomato syrup as a home remedy from northern America. Elecampane was recommended in the United Kingdom according to William Thomas Fernie.Cholera cases are much less frequent in developed countries where governments have helped to establish water sanitation practices and effective medical treatments. The United States, for example, used to have a severe cholera problem similar to those in some developing countries. There were three large cholera outbreaks in the 1800s, which can be attributed to Vibrio cholerae\\'s spread through interior waterways like the Erie Canal and routes along the Eastern Seaboard. The island of Manhattan in New York City touched the Atlantic Ocean, where cholera collected just off the coast. At this time, New York City did not have as effective a sanitation system as it does today, so cholera was able to spread.Cholera morbus is a historical term that was used to refer to gastroenteritis rather than specifically cholera.\\n\\n\\t\\t\\n\\t\\t\\n\\t\\t\\n\\n\\n== Research ==\\n\\nThe bacterium was isolated in 1854 by Italian anatomist Filippo Pacini, but its exact nature and his results were not widely known.\\nSpanish physician Jaume Ferran i Clua developed a cholera inoculation in 1885, the first to immunize humans against a bacterial disease.Russian-Jewish bacteriologist Waldemar Haffkine developed the first cholera vaccine in July 1892.One of the major contributions to fighting cholera was made by the physician and pioneer medical scientist John Snow (1813–1858), who in 1854 found a link between cholera and contaminated drinking water. Dr. Snow proposed a microbial origin for epidemic cholera in 1849. In his major \"state of the art\" review of 1855, he proposed a substantially complete and correct model for the cause of the disease. In two pioneering epidemiological field studies, he was able to demonstrate human sewage contamination was the most probable disease vector in two major epidemics in London in 1854. His model was not immediately accepted, but it was seen to be the more plausible, as medical microbiology developed over the next 30 years or so.\\nCities in developed nations made massive investment in clean water supply and well-separated sewage treatment infrastructures between the mid-1850s and the 1900s. This eliminated the threat of cholera epidemics from the major developed cities in the world. In 1883, Robert Koch identified V. cholerae with a microscope as the bacillus causing the disease.Robert Allan Phillips, working at the US Naval Medical Research Unit Two in Southeast Asia, evaluated the pathophysiology of the disease using modern laboratory chemistry techniques and developed a protocol for rehydration. His research led the Lasker Foundation to award him its prize in 1967.More recently, in 2002, Alam, et al., studied stool samples from patients at the International Centre for Diarrhoeal Disease in Dhaka, Bangladesh. From the various experiments they conducted, the researchers found a correlation between the passage of V. cholerae through the human digestive system and an increased infectivity state. Furthermore, the researchers found the bacterium creates a hyperinfected state where genes that control biosynthesis of amino acids, iron uptake systems, and formation of periplasmic nitrate reductase complexes were induced just before defecation. These induced characteristics allow the cholera vibrios to survive in the \"rice water\" stools, an environment of limited oxygen and iron, of patients with a cholera infection.\\n\\n\\n== Society and culture ==\\n\\n\\n=== Health policy ===\\nIn many developing countries, cholera still reaches its victims through contaminated water sources, and countries without proper sanitation techniques have greater incidence of the disease. Governments can play a role in this. In 2008, for example, the Zimbabwean cholera outbreak was due partly to the government\\'s role, according to a report from the James Baker Institute. The Haitian government\\'s inability to provide safe drinking water after the 2010 earthquake led to an increase in cholera cases as well.Similarly, South Africa\\'s cholera outbreak was exacerbated by the government\\'s policy of privatizing water programs. The wealthy elite of the country were able to afford safe water while others had to use water from cholera-infected rivers.According to Rita R. Colwell of the James Baker Institute, if cholera does begin to spread, government preparedness is crucial. A government\\'s ability to contain the disease before it extends to other areas can prevent a high death toll and the development of an epidemic or even pandemic. Effective disease surveillance can ensure that cholera outbreaks are recognized as soon as possible and dealt with appropriately. Oftentimes, this will allow public health programs to determine and control the cause of the cases, whether it is unsanitary water or seafood that have accumulated a lot of Vibrio cholerae specimens. Having an effective surveillance program contributes to a government\\'s ability to prevent cholera from spreading. In the year 2000 in the state of Kerala in India, the Kottayam district was determined to be \"Cholera-affected\"; this pronouncement led to task forces that concentrated on educating citizens with 13,670 information sessions about human health. These task forces promoted the boiling of water to obtain safe water, and provided chlorine and oral rehydration salts. Ultimately, this helped to control the spread of the disease to other areas and minimize deaths. On the other hand, researchers have shown that most of the citizens infected during the 1991 cholera outbreak in Bangladesh lived in rural areas, and were not recognized by the government\\'s surveillance program. This inhibited physicians\\' abilities to detect cholera cases early.According to Colwell, the quality and inclusiveness of a country\\'s health care system affects the control of cholera, as it did in the Zimbabwean cholera outbreak. While sanitation practices are important, when governments respond quickly and have readily available vaccines, the country will have a lower cholera death toll. Affordability of vaccines can be a problem; if the governments do not provide vaccinations, only the wealthy may be able to afford them and there will be a greater toll on the country\\'s poor. The speed with which government leaders respond to cholera outbreaks is important.Besides contributing to an effective or declining public health care system and water sanitation treatments, government can have indirect effects on cholera control and the effectiveness of a response to cholera. A country\\'s government can impact its ability to prevent disease and control its spread. A speedy government response backed by a fully functioning health care system and financial resources can prevent cholera\\'s spread. This limits cholera\\'s ability to cause death, or at the very least a decline in education, as children are kept out of school to minimize the risk of infection.\\n\\n\\n=== Notable cases ===\\nTchaikovsky\\'s death has traditionally been attributed to cholera, most probably contracted through drinking contaminated water several days earlier. Tchaikovsky\\'s mother died of cholera, and his father became sick with cholera at this time but made a full recovery. Some scholars, however, including English musicologist and Tchaikovsky authority David Brown and biographer Anthony Holden, have theorized that his death was a suicide.\\n2010 Haiti cholera outbreak. Ten months after the 2010 earthquake, an outbreak swept over Haiti, traced to a United Nations base of peacekeepers from Nepal. This marks the worst cholera outbreak in recent history, as well as the best documented cholera outbreak in modern public health.\\nSadi Carnot, Physicist, a founder of thermodynamics (d. 1832)\\nCharles X, King of France (d. 1836)\\nJames K. Polk, eleventh president of the United States (d. 1849)\\nCarl von Clausewitz, Prussian soldier and German military theorist (d. 1831)\\nElliot Bovill, Chief Justice of the Straits Settlements (1893)\\n\\n\\n== References ==\\n\\n\\n== External links ==\\nPrevention and control of cholera outbreaks: WHO policy and recommendations\\nCholera—World Health Organization\\nCholera – Vibrio cholerae infection—Centers for Disease Control and Prevention\\n \"Cholera\" . Encyclopædia Britannica. 6 (11th ed.). 1911. pp. 262–267.'"
      ]
     },
     "execution_count": 26,
     "metadata": {},
     "output_type": "execute_result"
    }
   ],
   "source": [
    "ny.content"
   ]
  },
  {
   "cell_type": "code",
   "execution_count": 27,
   "metadata": {},
   "outputs": [
    {
     "data": {
      "text/plain": [
       "'https://en.wikipedia.org/wiki/Cholera'"
      ]
     },
     "execution_count": 27,
     "metadata": {},
     "output_type": "execute_result"
    }
   ],
   "source": [
    "ny.url\n"
   ]
  },
  {
   "cell_type": "code",
   "execution_count": 29,
   "metadata": {},
   "outputs": [],
   "source": [
    "ny=wikipedia.page('Typhoid and paratyphoid fevers')"
   ]
  },
  {
   "cell_type": "code",
   "execution_count": 30,
   "metadata": {
    "collapsed": false
   },
   "outputs": [
    {
     "data": {
      "text/plain": [
       "'Paratyphoid fever, also known simply as paratyphoid, is a bacterial infection caused by one of the three types of Salmonella enterica. Symptoms usually begin 6–30 days after exposure and are the same as those of typhoid fever. Often, a gradual onset of a high fever occurs over several days. Weakness, loss of appetite, and headaches also commonly occur. Some people develop a skin rash with rose-colored spots. Without treatment, symptoms may last weeks or months. Other people may carry the bacteria without being affected; however, they are still able to spread the disease to others. Both typhoid and paratyphoid are of similar severity. Paratyphoid and typhoid fever are types of enteric fever.Paratyphoid is caused by the bacterium Salmonella enterica of the serotypes Paratyphi A, Paratyphi B, or Paratyphi C growing in the intestines and blood. They are usually spread by eating or drinking food or water contaminated with the feces of an infected person. They may occur when a person who prepares food is infected. Risk factors include poor sanitation as is found among poor crowded populations. Occasionally, they may be transmitted by sex. Humans are the only animals infected. Diagnosis may be based on symptoms and confirmed by either culturing the bacteria or detecting the bacterial DNA in the blood, stool, or bone marrow. Culturing the bacteria can be difficult. Bone-marrow testing is the most accurate. Symptoms are similar to that of many other infectious diseases. Typhus is an unrelated disease.While no vaccine is available specifically for paratyphoid, the typhoid vaccine may provide some benefit. Prevention includes drinking clean water, better sanitation, and better handwashing. Treatment of the disease is with antibiotics such as azithromycin. Resistance to a number of other previously effective antibiotics is common.Paratyphoid affects about six million people a year. It is most common in parts of Asia and rare in the developed world. Most cases are due to Paratyphi A rather than Paratyphi B or C. In 2015, paratyphoid fever resulted in about 29,200 deaths, down from 63,000 deaths in 1990. The risk of death is between 10 and 15% without treatment, while with treatment, it may be less than 1%.\\n\\n\\n== Signs and symptoms ==\\n\\nParatyphoid fever resembles typhoid fever. Infection is characterized by a sustained fever, headache, abdominal pain, malaise, anorexia, a nonproductive cough (in early stage of illness), a relative bradycardia (slow heart rate), and hepatosplenomegaly (an enlargement of the liver and spleen). About 30% of Caucasians develop rosy spots on the central body. In adults, constipation is more common than diarrhea.\\nOnly 20 to 40% of people initially have abdominal pain. Nonspecific symptoms such as chills, sweating, headache, loss of appetite, cough, weakness, sore throat, dizziness, and muscle pains are frequently present before the onset of fever. Some very rare symptoms are psychosis (mental disorder), confusion, and seizures.\\n\\n\\n== Cause ==\\nParatyphoid fever is caused by any of three strains of Salmonella paratyphoid: S. Paratyphi A, S. schottmuelleri (also called S. Paratyphi B), or S. hirschfeldii (also called S. Paratyphi C).\\n\\n\\n=== Transmission ===\\nThey are usually spread by eating or drinking food or water contaminated with the feces of an infected person. They may occur when a person who prepares food is infected. Risk factors include poor sanitation as is found among poor crowded populations. Occasionally, they may be transmitted by sex. Humans are the only animals infected.\\n\\n\\n=== Paratyphoid B ===\\nParatyphoid B is more frequent in Europe. It can present as a typhoid-like illness, as a severe gastroenteritis or with features of both. Herpes labialis, rare in true typhoid fever, is frequently seen in paratyphoid B. Rarely a subdural empyema can occur. Diagnosis is with isolation of the agent in blood or stool and demonstration of antibodies antiBH in the Widal test. The disease responds well to chloramphenicol or co-trimoxazole.\\n\\n\\n=== Paratyphoid C ===\\nParatyphoid C is a rare infection, generally seen in the Far East. It presents as a septicaemia with metastatic abscesses. Cholecystitis is possible in the course of the disease.\\nAntibodies to paratyphoid C are not usually tested and the diagnosis is made with blood cultures. Chloramphenicol therapy is generally effective.\\n\\n\\n=== Carriers ===\\nHumans and, occasionally, domestic animals are the carriers of paratyphoid fever. Members of the same family can be transient or permanent carriers. In most parts of the world, short-term fecal carriers are more common than urinary carriers. The chronic urinary carrier state occurs in those who have schistosomiasis (parasitic blood fluke).\\nContinuing to shed Salmonella Paratyphi is possible for up to one year, and during this phase, a person is considered to be a carrier. The chronic carrier state may follow acute illness, or mild or even subclinical infections. Chronic carriers are most often women who were infected in their middle age.\\n\\n\\n== Pathophysiology ==\\nAfter ingestion, if the immune system is unable to stop the infection, the bacteria multiply and then spread to the bloodstream, after which the first signs of disease are observed in the form of fever. They penetrate further to the bone marrow, liver, and bile ducts, from which bacteria are excreted into the bowel contents. In the second phase of the disease, the bacteria penetrate the immune tissue of the small intestine, and the initial symptoms of small-bowel movements begin.\\n\\n\\n== Prevention ==\\nProviding basic sanitation and safe drinking water and food are the keys for controlling the disease. In developed countries, enteric fever rates decreased in the past when treatment of municipal water was introduced, human feces were excluded from food production, and pasteurization of dairy products began. In addition, children and adults should be carefully educated about personal hygiene. This would include careful handwashing after defecation and sexual contact, before preparing or eating food, and especially the sanitary disposal of feces. Food handlers should be educated in personal hygiene prior to handling food or utensils and equipment. Infected individuals should be advised to avoid food preparation. Sexually active people should be educated about the risks of sexual practices that permit fecal-oral contact.Those who travel to countries with poor sanitation should receive a live attenuated typhoid vaccine—Ty21a (Vivotif), which, in addition to the protection against typhoid fever,  may provide some protection against paratyphoid fever caused by the S. enterica serotypes A and B. In particular, a reanalysis of data from a trial conducted in Chile showed the Ty21a vaccine was 49% effective (95% CI: 8–73%) in preventing paratyphoid fever caused by the serotype B. Evidence from a study of international travelers in Israel also indicates the vaccine may prevent a fraction of infections by the serotype A, although no trial confirms this. This cross-protection by a typhoid vaccine is most likely due to O antigens shared between different S. enterica serotypes.Exclusion from work and social activities should be considered for symptomatic, and asymptomatic people who are food handlers, healthcare/daycare staff who are involved in patient care and/or child care, children attending unsanitary daycare centers, and older children who are unable to implement good standards of personal hygiene. The exclusion applies until two consecutive stool specimens are taken from the infected patient and are reported negative.\\n\\n\\n== Treatments ==\\nControl requires treatment of antibiotics and vaccines prescribed by a doctor. Major control treatments for paratyphoid fever include ciprofloxacin for 10 days, ceftriaxone/cefotaxime for 14 days, or aziththromycin.\\n\\n\\n== Prognosis ==\\nThose diagnosed with Type A of the bacterial strain rarely die from it except in rare cases of severe intestinal complications. With proper testing and diagnosis, the mortality rate falls to less than 1%. Antibiotics such as azithromycin are particularly effective in treating the disease.\\n\\n\\n== Epidemiology ==\\nFactors outside the household, such as unclean food from street vendors and flooding, help distribute the disease from person to person.\\nBecause of poverty and poor hygiene and insanitary conditions, the disease is more common in less-industrialized countries, principally owing to the problem of unsafe drinking water, inadequate sewage disposal, and flooding. Occasionally causing epidemics, paratyphoid fever is found in large parts of Asia, Africa, and Central and South America. Many of those infected get the disease in Asian countries. About 16 million cases occur a year, which result in about 25,000 deaths worldwide.\\n\\n\\n== References ==\\n\\n\\n== Further reading ==\\n\\n\"Typhoid and Paratyphoid Fever.\" Communicable Disease Management Protocol. November 2001 https://www.gov.mb.ca/health/publichealth/cdc/protocol/typhoid.pdf.\\n\"Typhoid and Paratyphoid Fever.\" Public Health Notifiable Disease Management Guidelines. Disease Control and Prevention. Alberta Health and Wellness: June 2013 https://web.archive.org/web/20130925214850/http://www.health.alberta.ca/documents/Guidelines-Paratyphoid-Fever-2013.pdf'"
      ]
     },
     "execution_count": 30,
     "metadata": {},
     "output_type": "execute_result"
    }
   ],
   "source": [
    "ny.content"
   ]
  },
  {
   "cell_type": "code",
   "execution_count": 31,
   "metadata": {},
   "outputs": [
    {
     "data": {
      "text/plain": [
       "9282"
      ]
     },
     "execution_count": 31,
     "metadata": {},
     "output_type": "execute_result"
    }
   ],
   "source": [
    "len(ny.content)"
   ]
  },
  {
   "cell_type": "code",
   "execution_count": 32,
   "metadata": {},
   "outputs": [
    {
     "data": {
      "text/plain": [
       "'https://en.wikipedia.org/wiki/Paratyphoid_fever'"
      ]
     },
     "execution_count": 32,
     "metadata": {},
     "output_type": "execute_result"
    }
   ],
   "source": [
    "ny.url"
   ]
  },
  {
   "cell_type": "code",
   "execution_count": 33,
   "metadata": {},
   "outputs": [
    {
     "data": {
      "text/plain": [
       "'Paratyphoid fever, also known simply as paratyphoid, is a bacterial infection caused by one of the three types of Salmonella enterica. Symptoms usually begin 6–30 days after exposure and are the same as those of typhoid fever. Often, a gradual onset of a high fever occurs over several days. Weakness, loss of appetite, and headaches also commonly occur. Some people develop a skin rash with rose-colored spots. Without treatment, symptoms may last weeks or months. Other people may carry the bacteria without being affected; however, they are still able to spread the disease to others. Both typhoid and paratyphoid are of similar severity. Paratyphoid and typhoid fever are types of enteric fever.Paratyphoid is caused by the bacterium Salmonella enterica of the serotypes Paratyphi A, Paratyphi B, or Paratyphi C growing in the intestines and blood. They are usually spread by eating or drinking food or water contaminated with the feces of an infected person. They may occur when a person who prepares food is infected. Risk factors include poor sanitation as is found among poor crowded populations. Occasionally, they may be transmitted by sex. Humans are the only animals infected. Diagnosis may be based on symptoms and confirmed by either culturing the bacteria or detecting the bacterial DNA in the blood, stool, or bone marrow. Culturing the bacteria can be difficult. Bone-marrow testing is the most accurate. Symptoms are similar to that of many other infectious diseases. Typhus is an unrelated disease.While no vaccine is available specifically for paratyphoid, the typhoid vaccine may provide some benefit. Prevention includes drinking clean water, better sanitation, and better handwashing. Treatment of the disease is with antibiotics such as azithromycin. Resistance to a number of other previously effective antibiotics is common.Paratyphoid affects about six million people a year. It is most common in parts of Asia and rare in the developed world. Most cases are due to Paratyphi A rather than Paratyphi B or C. In 2015, paratyphoid fever resulted in about 29,200 deaths, down from 63,000 deaths in 1990. The risk of death is between 10 and 15% without treatment, while with treatment, it may be less than 1%.'"
      ]
     },
     "execution_count": 33,
     "metadata": {},
     "output_type": "execute_result"
    }
   ],
   "source": [
    "wikipedia.summary('Typhoid and paratyphoid fevers')"
   ]
  },
  {
   "cell_type": "code",
   "execution_count": 38,
   "metadata": {},
   "outputs": [
    {
     "data": {
      "text/plain": [
       "'Paratyphoid fever, also known simply as paratyphoid, is a bacterial infection caused by one of the three types of Salmonella enterica.'"
      ]
     },
     "execution_count": 38,
     "metadata": {},
     "output_type": "execute_result"
    }
   ],
   "source": [
    "wikipedia.summary('Typhoid and paratyphoid fevers',)"
   ]
  },
  {
   "cell_type": "code",
   "execution_count": 38,
   "metadata": {},
   "outputs": [],
   "source": [
    "\n"
   ]
  },
  {
   "cell_type": "code",
   "execution_count": null,
   "metadata": {},
   "outputs": [],
   "source": []
  }
 ],
 "metadata": {
  "kernelspec": {
   "display_name": "Python 2",
   "language": "python",
   "name": "python2"
  },
  "language_info": {
   "codemirror_mode": {
    "name": "ipython",
    "version": 2
   },
   "file_extension": ".py",
   "mimetype": "text/x-python",
   "name": "python",
   "nbconvert_exporter": "python",
   "pygments_lexer": "ipython2",
   "version": "2.7.6"
  }
 },
 "nbformat": 4,
 "nbformat_minor": 0
}
